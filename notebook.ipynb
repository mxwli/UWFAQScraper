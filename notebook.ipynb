{
 "cells": [
  {
   "cell_type": "code",
   "execution_count": 1,
   "metadata": {},
   "outputs": [],
   "source": [
    "import pandas\n",
    "import gensim\n",
    "import duckdb"
   ]
  },
  {
   "cell_type": "markdown",
   "metadata": {},
   "source": [
    "# This section concerns training models."
   ]
  },
  {
   "cell_type": "code",
   "execution_count": 2,
   "metadata": {},
   "outputs": [],
   "source": [
    "data = pandas.read_csv(\"postings.csv\")"
   ]
  },
  {
   "cell_type": "code",
   "execution_count": 7,
   "metadata": {},
   "outputs": [],
   "source": [
    "documents = [gensim.models.doc2vec.TaggedDocument(gensim.utils.simple_preprocess(str(doc)), [i]) for i, doc in enumerate(data[\"description\"])]"
   ]
  },
  {
   "cell_type": "markdown",
   "metadata": {},
   "source": [
    "### Model save naming scheme\n",
    "\n",
    "Consider the default parameters to be `(documents, vector_size=50, window=5, min_count=5, workers=6, epochs=1)`\n",
    "The corresponding default save name is `\"doc2vec.model\"`\n",
    "\n",
    "when parameters differ, eg `epochs=10`, then the save name is `\"doc2vec-epochs_10.model\"`"
   ]
  },
  {
   "cell_type": "code",
   "execution_count": 4,
   "metadata": {},
   "outputs": [],
   "source": [
    "# Run this if we need to generate new models\n",
    "vector_size=150\n",
    "model = gensim.models.Doc2Vec(documents, vector_size=vector_size, window=8, min_count=5, workers=4, epochs=20, negative=15, sample=1e-5)\n",
    "model.save(\"doc2vec-vector_size_50-window_8-epochs_20-negative_15-sample_1e-5.model\")"
   ]
  },
  {
   "cell_type": "code",
   "execution_count": 10,
   "metadata": {},
   "outputs": [],
   "source": [
    "# Run this to load models\n",
    "vector_size=150\n",
    "model = gensim.models.Doc2Vec.load(\"doc2vec-vector_size_50-window_8-epochs_20-negative_15-sample_1e-5.model\")"
   ]
  },
  {
   "cell_type": "code",
   "execution_count": 5,
   "metadata": {},
   "outputs": [
    {
     "name": "stdout",
     "output_type": "stream",
     "text": [
      "[('golang', 0.884445071220398), ('angular', 0.8738394379615784), ('javascript', 0.8638027906417847), ('python', 0.8609697222709656), ('nodejs', 0.850350558757782), ('js', 0.8358636498451233), ('reactjs', 0.8354408740997314), ('typescript', 0.814383327960968), ('kotlin', 0.7976672053337097), ('sql', 0.7898983955383301), ('oop', 0.7849213480949402), ('angularjs', 0.7722851037979126), ('struts', 0.7709268927574158), ('backend', 0.7635115385055542), ('graphql', 0.760227620601654)]\n"
     ]
    }
   ],
   "source": [
    "# Run this to test models\n",
    "print(model.wv.most_similar(\"java\", topn=15))"
   ]
  },
  {
   "cell_type": "markdown",
   "metadata": {},
   "source": [
    "# This section concerns speeding up query results using embedded Databases (Namely DuckDB for this demo)"
   ]
  },
  {
   "cell_type": "code",
   "execution_count": 11,
   "metadata": {},
   "outputs": [
    {
     "name": "stdout",
     "output_type": "stream",
     "text": [
      "                                                 vec  \\\n",
      "0  [0.16971074, -0.016613226, 0.4590436, -0.42158...   \n",
      "1  [1.1401042, -0.1168741, 0.12566207, 0.67148614...   \n",
      "2  [0.4515414, 0.15629922, 0.16206044, 0.03234753...   \n",
      "3  [-0.25204325, -0.09656739, 0.2107027, 0.274823...   \n",
      "4  [0.036246527, 0.0866064, 0.06634248, -0.027899...   \n",
      "\n",
      "                                                 idx  \n",
      "0  Job descriptionA leading real estate firm in N...  \n",
      "1  At Aspen Therapy and Wellness , we are committ...  \n",
      "2  The National Exemplar is accepting application...  \n",
      "3  Senior Associate Attorney - Elder Law / Trusts...  \n",
      "4  Looking for HVAC service tech with experience ...  \n"
     ]
    }
   ],
   "source": [
    "# set up pandas df to be queried from\n",
    "tmp_df = pandas.DataFrame({\"vec\": [model.dv[i] for i in range(len(documents))], \"idx\": data[\"description\"]})\n",
    "print(tmp_df.head())"
   ]
  },
  {
   "cell_type": "code",
   "execution_count": 13,
   "metadata": {},
   "outputs": [],
   "source": [
    "# Setup database via `model`\n",
    "duckdb.sql(\"install vss\")\n",
    "duckdb.sql(\"load vss\")\n",
    "duckdb.sql(\"DROP TABLE embeddings\")\n",
    "duckdb.sql(f\"CREATE TABLE embeddings (vec FLOAT[{vector_size}], idx STRING);\")\n",
    "duckdb.sql(\"CREATE INDEX cos_idx ON embeddings USING HNSW (vec) WITH (metric='cosine')\")\n",
    "duckdb.sql(\"INSERT INTO embeddings SELECT * FROM tmp_df\")"
   ]
  },
  {
   "cell_type": "code",
   "execution_count": 20,
   "metadata": {},
   "outputs": [
    {
     "name": "stdout",
     "output_type": "stream",
     "text": [
      "(0.559284508228302, \"Opentext - The Information Company\\n\\nAs the Information Company, our mission at OpenText is to create software solutions and deliver services that redefine the future of digital. Be part of a winning team that leads the way in Enterprise Information Management.\\n\\nOpenText is a global leader in information management, where innovation, creativity, and collaboration are the key components of our corporate culture. As a member of our team, you will have the opportunity to partner with the most highly regarded companies in the world, tackle complex issues, and contribute to projects that shape the future of digital transformation.\\n\\nYOUR IMPACT\\n\\nUnique opportunity for a Sr Sales Director, who has an excellent record in providing vision and strategic leadership for an international software business in Eastern Europe.\\n\\nIn this role you'll focus on successful territory prioritization, leveraging channels for an international sales organization. You will be experienced in sales management, building high performance and inclusive sales teams, and driving Go-To-Market strategy for growth in new markets. You will contribute to building the brand for the organization through marketing, social media presence and broad-based platforms. You will be influential of overall team culture and creating identity for OpenText brand awareness beyond sales.\\n\\nWhat The Role Offers\\n\\n Overall responsibility for the OpenText business Cybersecurity and Business NetworkGTM: Driving go to market strategy for OpenText solutions Strategy: Driving OpenText Growth strategy through the sales of new products and into new territoriesTeam management: Hiring, managing, consolidating the best direct sales team to achieve the growth targets.Stakeholder Relations: Stakeholder relations with Media, executive level in customers, executive level in partnersForecasting: Manage and report on forecast across on premise license and cloud revenue weekly, and manage quarterly business to achieve quarterly targetsNegotiation: supporting sales with negotiation and closing on opportunitiesPartner Management: Engagement with partners across all regions from contractual, sales activity, escalations, market development and all other perspectives\\n\\nWhat You Need To Succeed\\n\\nNative or equivalent business fluency in Czech language and be able to express yourself well verbally and written in EnglishSales ManagementExcellent record in providing vision and strategic leadership for direct sales teams.Successful track record at driving sales teams to results across region. Talent for recruiting and developing high-performance teams, making effective decisions, preparing tactical plans to achieve goals in aggressive timeframes.Output and outcome focused. Extensive experience in enterprise software solutionsStrong customer engagement on C-levelSoft skills – team-building, mentoring, coaching\\n\\nOne Last Thing\\n\\nOpenText is more than just a corporation, it's a global community where trust is foundational, the bar is raised, and outcomes are owned.\\n\\nOpenText's efforts to build an inclusive work environment go beyond simply complying with applicable laws. Our Employment Equity and Diversity Policy provides direction on maintaining a working environment that is inclusive of everyone, regardless of culture, national origin, race, color, gender, gender identification, sexual orientation, family status, age, veteran status, disability, religion, or other basis protected by applicable laws. If you need assistance and/or a reasonable accommodation due to a disability during the application or recruiting process, please contact us at hr@opentext.com.\")\n",
      "(0.4906930923461914, '\\nPOSITION OpenText AdminLOCATION Tampa, FL—3 days a week onsite—open to relo day 1DURATION 6+ MonthsINTERVIEW TYPE VideoVISA TYPE Any\\nREQUIRED SKILLS \\n• Experience in installing, configuring, and maintaining the OpenText Content Server Suite.• Proficiency in Linux scripting and system administration.• Familiarity with Autosys or similar job scheduling and automation tools.• Relevant certifications (e.g., OpenText Content Server Administrator Certification) are a plus.')\n",
      "(0.45349928736686707, 'Mandatory Skills Description:• Required COBOL, including manual coding• GitHub• BMC software experience (ISPW)')\n",
      "(0.4429389536380768, 'Creating Peace of Mind by Pioneering Safety and Security\\n\\nAt Allegion, we help keep the people you know and love safe and secure where they live, work and visit. With more than 30 brands, 12,000+ employees globally and products sold in 130 countries, we specialize in security around the doorway and beyond.\\n\\nAllegion is looking for a Senior Mechanical Engineer to join the Engineering, Electronic Locks – Mechanical Team!\\n\\nAs a Senior Mechanical Engineer, you will have the opportunity to lead the mechanical design for one of Allegion’s new electronic locks or access control devices for Residential or Commercial environments. In this role, you will work with a Technical Leader and together be responsible for product scoping, requirements management, concept selection, architecture development, and product implementation.\\n\\nWhat You Will Do\\n\\nDefine mechanical system requirements and specifications to meet customer, marketing, and internal stakeholder needs.Utilize engineering tools (FMEA, Root Cause Analysis, GD&T, Tolerance Stack Analysis & DFM/DFA) to ensure that requirement risks are evaluated and mitigated early in the design process.Ensure designs meet system requirements through proper verification methods.Develop required design documentation, 3D models/drawings, and instructions for manufacturing and product test requirements. Experience with Pro-E/Creo is a plus.Work with all engineering disciplines in a team environment with good understanding of cross functional design processes (high focus on interactions with Systems Engineering, Hardware and Firmware)Define design trade-offs as necessary to ensure the highest level of product performance and quality when considering product cost, manufacturability, and available technologies.Coordinate development timelines and track activities to meet delivery and cost commitments.Responsibilities could include technical leadership of cross-functional teams, leading design reviews and supplier reviews, developing technical documentation, product change management, and/or process development/enhancement. Provide day-to-day direction and oversight for other employees.\\n\\nWhat You Need To Succeed\\n\\nBS in Mechanical Engineering.5+ years of experience in the design, development, implementation, and integration of mechanical systems.An upbeat, positive attitude and have a passion for technology and willingness to explore and adopt emerging technologies for practical business purposes.Ability to quickly understand new business domains and be creative and thoughtful about applying technology to enable business growth, consumer satisfaction, and/or process improvements.Ability to quickly build proof-of-concept solutions that are forward looking to how they could be implemented on a larger scale.Self-motivated mindset with strong engineering project management skills .Ability to communicate well verbally and in writing, with various team members in roles that are both technical and non-technical, particularly to give direction to other team members or present business value of various initiatives to leadership.A proactive work approach to coordinate efforts with employees at all levels including internal business partners, other technology teams, external suppliers/consultants, service providers, etc.Experience in product design from concept to production and have experience utilizing cross functional processes such as engineering change control.Demonstrated experience executing electro-mechanical subsystem design under little or no supervision.Ability leading teams that may be globally co-located.Have Experience delivering technical solutions for projects leveraging agile project management methodologies.Experience using an integrated development environment or application lifecycle management tools such as Visual Studio or DevOpsProficiency with engineering tools including FMEA, Root Cause Analysis, GD&T, Tolerance Stack Analysis & DFM/DFA.Experience with manufacturing processes such as die casting, investment casting, powdered metal, stampings, injection molded plastics, machining, LPM, and rapid prototyping is a plus.Experience with Mechanism Design, Creo, Solidworks, Windchill, Finite Element Analysis, Industry Standards/ Validation, Value Analysis Value Engineering, Designing for Harsh Environment Conditions is a plus.An openness to travel: Travel requirements 10% after COVID 19 travel restrictions are lifted.\\n\\nWe Celebrate Who We Are! \\n\\nAllegion is committed to building and maintaining a diverse and inclusive workplace. Together, we embrace all differences and similarities among colleagues, as well as the differences and similarities within the relationships that we foster with customers, suppliers and the communities where we live and work. Whatever your background, experience, race, color, national origin, religion, age, gender, gender identity, disability status, sexual orientation, protected veteran status, or any other characteristic protected by law, we will make sure that you have every opportunity to impress us in your application and the opportunity to give your best at work, not because we’re required to, but because it’s the right thing to do. We are also committed to providing accommodations for persons with disabilities. If for any reason you cannot apply through our career site and require an accommodation or assistance, please contact our Talent Acquisition Team.\\n\\n© Allegion plc, 2023 | Block D, Iveagh Court, Harcourt Road, Dublin 2, Co. Dublin, Ireland\\n\\nREGISTERED IN IRELAND WITH LIMITED LIABILITY REGISTERED NUMBER 527370\\n\\nAllegion is an equal opportunity and affirmative action employer\\n\\nPrivacy Policy')\n",
      "(0.44234025478363037, \"Job Category: Information Technology\\n\\nTime Type: Full time\\n\\nMinimum Clearance Required to Start: Secret\\n\\nEmployee Type: Regular\\n\\nPercentage of Travel Required: Up to 10%\\n\\nType of Travel: Local\\n\\n* * *\\n\\nJob Description\\n\\nCACI is hiring a Senior SAP ABAP Developer to join our team supporting the Naval Sea System Command (NAVSEA) and technical upgrades for the Navy Maritime Maintenance Enterprise Solution (NMMES) financial and material management systems. Selected candidates will deliver and sustain capabilities in a fast-paced SAFe agile development environment. Work includes collaborating on systems and solutions supporting large portfolios from business, analysis, technical, systems, data, and enterprise functions.\\n\\nWhat You’ll Get To Do\\n\\nAs a Senior SAP ABAP Developer, you'll work within an Agile team to develop, test, debug, implement, maintain, and document solutions for SAP applications.\\n\\nThis involves collaborating closely with other team members to ensure the timely delivery of high-quality software.\\n\\nYour role involves providing optimization, enhancement, and operational and maintenance (O&M) support for ABAP applications that handle financial and material management functions on customers' SAP systems. This includes identifying areas for improvement and implementing enhancements to optimize system performance.Implement SAP ABAP software applications and interfaces.Develop, test, debug, implement, maintain, and document ABAP Reports, Interfaces, Conversions, Extensions, Forms and Workflows (RICEFW) objects within SAP ECC, CRM, SRM, Portal, Solution Manager and/or future HANA based SAP Application systems (e.g.: S/4HANA, C/4HANA, BW/4HANA, etc.).You'll participate in the analysis of customers' business operations to validate requirements and scope. This involves understanding business needs, suggesting process improvements, and assisting in estimating the level of effort (LOE) required for implementing solutions.You'll develop and maintain SAP design and technical specification documents, as well as conduct unit, integration, and release testing to ensure the functionality of developed solutions. Additionally, you'll support end-users' acceptance testing activities to validate the usability of the implemented features.Your role extends to supporting production operations and release management activities.This involves ensuring smooth transitions during software releases and providing ongoing support to ensure the stability and reliability of the SAP systems.You'll contribute to modernizing user interfaces by designing and building applications consistent with the SAP Fiori Application Architecture. This includes implementing Fiori applications, enhancing standard applications using the enhancement framework, and fielding applications within existing application Launchpad environments.Overall, the role emphasizes collaboration, continuous improvement, and delivering value to customers through the development and maintenance of SAP applications in an Agile environment.\\n\\nYou’ll Bring These Qualifications\\n\\nActive Secret Clearance is requiredCollege degree (B.S.) in Computer Science, Software Engineering, Information Management Systems, or a related discipline. Equivalent professional experience will be considered in lieu of degree.10-15 years of experience extending SAP standard functionality using ABAP Objects and other modern SAP technologies.Experience with SAP HANA or designing and implementing modern UI5 or Fiori-style front-end User Interfaces using SAP libraries and techniques would be a plus.\\n\\nThese Qualifications Would Be Nice To Have\\n\\nExperience with the SAP Activate Methodology.Experience with SAP Fiori / UI5 User Interface technologies.Experience developing SAP Java Application software in SAP NetWeaver Java Stack environments.SAP Certification preferred.SAFe experience and/or certification.\\n\\nWhat We Can Offer You\\n\\n We’ve been named a Best Place to Work by the Washington Post. Our employees value the flexibility at CACI that allows them to balance quality work and their personal lives. We offer competitive benefits and learning and development opportunities. We are mission-oriented and ever vigilant in aligning our solutions with the nation’s highest priorities. For over 60 years, the principles of CACI’s unique, character-based culture have been the driving force behind our success.\\n\\nCompany Overview\\n\\nCACI is an Equal Opportunity/Affirmative Action Employer. All qualified applicants will receive consideration for employment without regard to race, color, religion, sex, sexual orientation, gender identity, national origin, disability, status as a protected veteran, or any other protected characteristic.\\n\\nPay Range: There are a host of factors that can influence final salary including, but not limited to, geographic location, Federal Government contract labor categories and contract wage rates, relevant prior work experience, specific skills and competencies, education, and certifications. Our employees value the flexibility at CACI that allows them to balance quality work and their personal lives. We offer competitive compensation, benefits and learning and development opportunities. Our broad and competitive mix of benefits options is designed to support and protect employees and their families. At CACI, you will receive comprehensive benefits such as; healthcare, wellness, financial, retirement, family support, continuing education, and time off benefits. Learn more here\\n\\nThe Proposed Salary Range For This Position Is\\n\\n$68,400-$143,700\")\n",
      "(0.4410058557987213, \"Job SummaryIn this role, the ideal candidate will own the design, development, deployment of a highly scalable and secure systems. The candidate will also collaborate with other developers within the company and business leaders to understand user requirements and desired features.\\nYou must be able to learn new languages and technologies quickly, be a strong teammate, and rapidly adapt to changing business and customer demands. The ideal candidate should have experience building applications using Java, Spring framework, Junit, Maven/Gradle, Automated testing tools like Cucumber/Selenium that rely on multiple web services and that operate at scale (millions of users). As a Senior principal developer, you will guide the team in all technical decisions throughout the design, development, and release phases. Innovation is a huge part of the role as well as mentoring/coaching junior members of the technical staff.\\nJob DescriptionRequirements:10+ years of professional experience in crafting large-scale applications, with a commitment to serving diverse customer bases and fostering inclusivity.Demonstrated expertise of 10+ years in hands-on Java and Spring Boot development, showcasing proficiency in the Spring Framework.Proven ability to write clean, maintainable, and efficient code, emphasizing the creation of common and reusable libraries.Excellent documentation skills, including the creation of specifications, flow diagrams, and sequence diagrams.Strong communication and presentation skills, focusing on inclusivity, empathy, and clarity to engage with a diverse audience.Familiarity with common libraries, software design patterns, and the OAuth protocol.Experience with automated web application/API testing tools (Jasmine, Selenium, Cucumber, etc.) and load testing tools (JMeter or Gatling, etc.).Robust background in Java Cryptography Extensions, OpenSSL, and Bouncy Castle libraries, with an emphasis on fostering a collaborative environment.Experience in implementing Java multithreading techniques for building fluid front-end user experiences.Proficiency in encryption/decryption/signature technologies and protocols, with an understanding of their impact on diverse user groups.Experience working in an Agile/Scrum environment, with a commitment to creating an inclusive and collaborative team culture.Knowledge of source control systems such as GitHub and proficiency in Continuous Integration and Deployment tools (Jenkins, Concourse, etc.).Ability to present technical material to both technical and non-technical audiences, fostering a supportive environment for all team members.Experience in mentoring and supporting junior members of the technical staff.A strong sense of ownership and responsibility for code quality, adhering to standard processes.A passionate commitment to learning and adapting to new technologies while driving innovation.Critical thinking and independent problem-solving abilities.\\nAdditional preferred skills:AWS API’s and Serverless architectureKnowledge of Digital Certificates and X509v3 standardsExperience with DevOps, Automated Testing and Continuous DeliveryExperience in logging, monitoring, troubleshooting skillsExperience building/operating applications dependent on large-scale (>1MM users) platforms with high availabilityOther duties and responsibilities as assigned\\nEmployees at all levels are expected to:Understand our Operating Principles; make them the guidelines for how you do your job.Own the customer experience - think and act in ways that put our customers first, give them flawless digital options at every touchpoint, and make them promoters of our products and services.Know your stuff - be enthusiastic learners, users and advocates of our game-changing technology, products and services, especially our digital tools and experiences.Win as a team - make big things happen by working together and being open to new insights.Be an active part of the Net Promoter System - a way of working that brings more employee and customer feedback into the company - by joining huddles, making call backs and helping us elevate opportunities to do better for our customers.Drive results and growth.Respect and promote inclusion & diversity.Do what's right for each other, our customers, investors and our communities.\\nWhat You Can Expect:An encouraging and casual work environment with chances to showcase your skills.A culture of innovation and continuous learning.Training, support, and mentoring to expand and evolve your expertise.\\nAbout Our Perks & Benefits:We are determined to create an environment where our employees feel valued, understand our business goals, and are motivated.Here's a look at just some of the perks and benefits we make available to our US-based employees:Medical & Dental401(k) Savings PlanGenerous paid time offLife Milestones - from adoption assistance, childcare resources, pet insurance, and more, the company supports you at all life stages.Courtesy Services - We offer all of our full-time employees in serviceable areas discounted digital TV and internet.Discounted tickets for Universal Resorts, and free tickets to our Universal theme parks!\\nReasonable AccommodationWe will ensure that individuals with disabilities are provided reasonable accommodation to participate in the job application or interview process, perform essential job functions, and receive other benefits and privileges of employment. Please contact us to request accommodation.\\nThe company is an EOE/Veterans/Disabled/LGBTemployer.Disclaimer:This information has been designed to indicate the general nature and level of work performed by employees in this role. It is not designed to contain or be interpreted as a comprehensive inventory of all duties, responsibilities, and qualifications.\\nWe believe that benefits should connect you to the support you need when it matters most, and should help you care for those who matter most. That's why we provide an array of options, expert guidance and always-on tools that are personalized to meet the needs of your reality—to help support you physically, financially and emotionally through the big milestones and in your everyday life.\\nEducationBachelor's DegreeWhile possessing the stated degree is preferred, the company also may consider applicants who hold some combination of coursework and experience, or who have extensive related professional experience.\")\n",
      "(0.44090762734413147, 'Role DescriptionAs a One Trust Privacy Management Specialist, you will be responsible for managing and enhancing the One Trust platform for our organization. You will work closely with the Information Security and Legal teams to ensure compliance with data privacy regulations and best practices. You will also leverage your experience in Collibra Data Governance. 3-5 years of experience in One Trust Privacy Management platform, including configuration, administration, and automation.Strong knowledge of data privacy regulations and frameworks, such as GDPR, CCPA, LGPD, ISO 27001, etc.Proficient in SQL, Python, and other scripting languages.Experience in Collibra Data Governance platform, including metadata management, data quality, and data lineage.Excellent communication, collaboration, and problem-solving skills.Ability to work independently and as part of a team.Certification in OneTrust and/or Collibra is a plus.Collibra Data GovernanceOperational Risk & ResilienceOne Trust Privacy ManagementData Business GroupModern Data Management & GovernanceCollibra Data Governance\\n')\n",
      "(0.4380112290382385, \"Job Title: Full Stack DeveloperLocation: Coppell, TXWork Type: Hybrid Role (03 Days Onsite & 02 Days Remote)Industry: Banking & Financial Background Note: No Visa Sponsorship - Required only W2 Candidates\\nJob Summary• Laying the foundational framework for the modernization of the systems• Participate in requirements gathering with Product owners, business users, and subject matter experts and work with the architect to come up with a design that will ensure system stability and expandability.• Following best practices on code development by incorporating automated unit testing, conducting code reviews, and participating in Agile ceremonies.• Collaborate with the testing teams to ensure that defects are identified and remediated before going live.• Provide ongoing maintenance support during the post-deployment phase.• Identify and implement efficiencies and improvements to standard processes and procedures such as automation through scripting, programming, etc• Mitigates risk by following established procedures, spotting key errors, and demonstrating strong ethical behavior.• Be a self-starter providing creative and innovative ideas or solutions continuously improving the technological offering\\nQualification Required:• Minimum of 5 years of related experience• Bachelor's degree in computer science is required, Master's preferred or equivalent experience.• Strong Coding Experience on Java and related technologies Java, J2EE, Spring (Boot, Core, MVC, JDBC, Security), Struts, JUnit, Hibernate.• Strong expertise in UI technologies like Angular, HTML, JavaScript, jQuery, and JSP.• REST APIs, Swagger• JEE Application servers Tomcat, WebSphere, JBOSS.• DevOps tools like Maven, Jenkins, nexus, and Fortify.• Solid understanding of Agile, CI/CD, Dev/Ops practices and tools• Understanding of Secure Coding and Best Practices and experience in secure code development or security tools such as Fiddler and Burp Suite is an advantage.• Knowledge of the host operating system Linux, Windows servers, and Portal applications would be an added advantage.• Demonstrates strong analytical and interpersonal skills.• Experienced in working with a geographically separated team\")\n",
      "(0.4379221498966217, 'HireClout\\n\\nA leading security and facility services company that uses cutting-edge smart technology to deliver evolving, tailored solutions that allows clients to focus on their core business. Operating in more than 90 countries with a global workforce of approximately 800,000 people. Employees help to deliver company promises globally and locally: keeping people safe so customers and communities can thrive.\\n\\nWhat You Will Be Doing\\n\\nCollaborate with experts to grasp training goals and content needs Develop interactive training materials like videos, presentations, e-learning modules, and simulations Use innovative techniques and tech to enrich the learning process Write and outline training content for accuracy, clarity, and relevance Create attractive graphics, animations, and multimedia for training Edit videos and audio for professional results Incorporate feedback to refine training content Stay current with industry trends in training and instructional design Work with the L&D team to align training with organizational objectives \\n\\nWhat You Will Need\\n\\nBachelor’s degree in Instructional Design, Education, Multimedia Design, or a related field Minimum of one (1) year of experience in a video training content development role required Demonstrated experience in creating training content for varied audiences and learning methods Proficient in video editing software (e.g., Adobe Premiere Pro, Final Cut Pro) and multimedia authoring tools (e.g., Adobe After Effects, Articulate Storyline) Strong narrative abilities and adeptness at explaining complex ideas clearly and succinctly Exceptional visual design skills with a keen sense of aesthetics and meticulousness Familiarity with e-learning authoring tools and learning management systems (LMS) Understanding of instructional design principles, adult learning theory, and learning assessment methods Experience with AI-driven video synthesis platforms preferred Effective project management abilities, capable of working autonomously and collaboratively in a fast-paced setting \\n\\nNice to Have\\n\\nProven track record developing training materials for technical topics, software, or security sectors Understanding of gamification methods to boost learner participation Proficiency in graphic design tools (e.g., Adobe Photoshop, Illustrator) for custom visual creation Familiarity with accessibility standards for inclusive training content \\n\\nWhy Us\\n\\nBenefits And Perks\\n\\nCompetitive pay : $50-$70/hr. Medical Dental Vision 401K \\n\\nApplicants must be currently authorized to work in the United States on a full-time basis now and in the future.\\n\\nThis position does not offer sponsorship.\\n\\nREF: JOB-4316\\n\\nShare this job\\n\\nFirst name\\n\\nLast name\\n\\nEmail\\n\\nAttach resume*\\n\\n Job type: Contract  Location:  Date posted: Posted 1 day ago Pay:$50 - $70 per Hour')\n",
      "(0.43160077929496765, '\\nKofax developerRemote\\nJob Description for Kofax Developer  • Experience in developing & supporting Kofax Total Agility 7.x based solutions. • Experience in using Microsoft Technologies in .Net Framework and .Net Core. Languages: ASP.NET, C#, Python, JavaScript, jQuery, SQL • Having experience with Azure Cloud, AWS, SaaS concept and implementation is an advantage. • Proficient with using locators and scripts in Transformation Designer for Classification and Extraction purpose. • Experience of developing & supporting Kofax Capture processes. • Experience with C# and Visual Basic for developing/consuming .NET assemblies and WCF Services. • Experience in developing/consuming REST APIs, JSON and SOAP Web services from Kofax Total Agility and .NET applications. • Experience working in AGILE teams with good and clear communication skills. • Experience in dealing with XML, JSON and CSV, SQL data. • Experience with SQL Server 2019 or latest. • Should be comfortable contributing individually and with team (onshore/offshore).')\n"
     ]
    }
   ],
   "source": [
    "# Sample query\n",
    "queryString = \"\"\"\n",
    "OpenText is a global leader in information management, where innovation, creativity, and collaboration are the key components of our corporate culture. As a member of our team, you will have the opportunity to partner with the most highly regarded companies in the world, tackle complex issues, and contribute to projects that shape the future of digital transformation.\n",
    "\n",
    "The Common Components unit provides shared software engineering services to global Product Management and development teams in the OpenText™ Products group. This includes User Experience Design support (guidelines and individual product designs), Product Information artifacts (product documentation and help), Localization support, Accessibility governance (VPAT, WCAG), Performance Engineering and Product Security and Build and Release management tools and services.\n",
    "\n",
    "Your Impact:\n",
    "\n",
    "A Development role at OpenText is more than just a job; it's an opportunity to impact lives. As a key contributor, you'll be instrumental in constructing cutting-edge Information Management Solutions that contribute to sustainable supply chains, support refugees, and enhance medical information access to save lives. You will engage in solving meaningful challenges within a motivated team, gaining exposure to advanced technologies beyond individual access. You will be encouraged to cultivate an engineering mindset, driving the creation of innovative software solutions that address real-world problems and shape the future.\n",
    "\n",
    "What the role offers:\n",
    "\n",
    "As a Senior Software Developer, you will:\n",
    "• Own and deliver projects aligned with the team's quarterly cadence, ensuring work contributes to customer success.\n",
    "• Model integrity and excellence, influencing best practices within the team and leveraging expertise.\n",
    "• Identify and address issues when the current path does not effectively serve customer needs, collaborating with the manager for corrections.\n",
    "• Keep customer value in focus, using input from others to determine appropriate technical solutions and making timely decisions without compromising trust.\n",
    "• Decompose customer problems into designs with multiple interacting software components, mastering code fluency fundamentals.\n",
    "• Serve as a technical lead, recognized for growing domain expertise, embracing change, and navigating ambiguity with resiliency, while fostering the development of less experienced team members.\n",
    "• Possess 5-8 years of previous professional experience.\n",
    "\n",
    "What you need to Succeed:\n",
    "• Expertise in one development stack: MVC, Java (Spring), JavaScript (jQuery, Tomcat), or Ruby (Rails).\n",
    "• Strong knowledge of SQL, Windows, Linux, and AWS.\n",
    "• Experience with Node.js, Python, Bash, and Docker (Terraform and React are a plus).\n",
    "• Ability to work with multiple development stacks.\n",
    "• Exceptional troubleshooting and problem-solving skills.\n",
    "• Proficiency in adapting to and learning new technologies.\n",
    "\n",
    "One last thing:\n",
    "\n",
    "OpenText is more than just a corporation, it's a global community where trust is foundational, the bar is raised, and outcomes are owned.\n",
    "\n",
    "Join us on our mission to drive positive change through privacy, technology, and collaboration. At OpenText, we don't just have a culture; we have character. Choose us because you want to be part of a company that embraces innovation and empowers its employees to make a difference.\n",
    "\n",
    "OpenText's efforts to build an inclusive work environment go beyond simply complying with applicable laws. Our Employment Equity and Diversity Policy provides direction on maintaining a working environment that is inclusive of everyone, regardless of culture, national origin, race, color, gender, gender identification, sexual orientation, family status, age, veteran status, disability, religion, or other basis protected by applicable laws.\n",
    "\n",
    "If you need assistance and/or a reasonable accommodation due to a disability during the application or recruiting process, please contact us at hr@opentext.com. Our proactive approach fosters collaboration, innovation, and personal growth, enriching OpenText's vibrant workplace.\n",
    "\"\"\"\n",
    "queryVec = model.infer_vector(gensim.utils.simple_preprocess(queryString), epochs=10)\n",
    "result = duckdb.sql(f\"SELECT array_cosine_similarity(vec, ?::FLOAT[{vector_size}]) AS dst, idx FROM embeddings ORDER BY dst DESC LIMIT 10\", params=[queryVec]).fetchall()\n",
    "for i in result:\n",
    "\tprint(i)"
   ]
  },
  {
   "cell_type": "code",
   "execution_count": 22,
   "metadata": {},
   "outputs": [
    {
     "name": "stdout",
     "output_type": "stream",
     "text": [
      "found\n",
      "found\n"
     ]
    }
   ],
   "source": [
    "for i in result:\n",
    "\tif \"OpenText\" in i[1]:\n",
    "\t\tprint(\"found\")"
   ]
  }
 ],
 "metadata": {
  "kernelspec": {
   "display_name": "venv",
   "language": "python",
   "name": "python3"
  },
  "language_info": {
   "codemirror_mode": {
    "name": "ipython",
    "version": 3
   },
   "file_extension": ".py",
   "mimetype": "text/x-python",
   "name": "python",
   "nbconvert_exporter": "python",
   "pygments_lexer": "ipython3",
   "version": "3.10.12"
  }
 },
 "nbformat": 4,
 "nbformat_minor": 2
}
